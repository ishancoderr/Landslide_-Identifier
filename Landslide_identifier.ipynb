{
  "nbformat": 4,
  "nbformat_minor": 0,
  "metadata": {
    "colab": {
      "name": "Untitled43.ipynb",
      "provenance": [],
      "collapsed_sections": [],
      "authorship_tag": "ABX9TyPMPSffofcTjugBGNTXImGT",
      "include_colab_link": true
    },
    "kernelspec": {
      "name": "python3",
      "display_name": "Python 3"
    },
    "language_info": {
      "name": "python"
    }
  },
  "cells": [
    {
      "cell_type": "markdown",
      "metadata": {
        "id": "view-in-github",
        "colab_type": "text"
      },
      "source": [
        "<a href=\"https://colab.research.google.com/github/ishancoderr/Landslide_-Identifier/blob/main/Landslide_identifier.ipynb\" target=\"_parent\"><img src=\"https://colab.research.google.com/assets/colab-badge.svg\" alt=\"Open In Colab\"/></a>"
      ]
    },
    {
      "cell_type": "markdown",
      "metadata": {
        "id": "slXfAEQTvxIz"
      },
      "source": [
        "https://www.scirp.org/journal/paperinformation.aspx?paperid=81276\n",
        "\n",
        "\n",
        "https://en.climate-data.org/asia/sri-lanka/uva/badulla-764256/\n",
        "\n",
        "https://books.google.lk/books?id=L3ckDwAAQBAJ&pg=PA270&lpg=PA270&dq=rainfall+data+with+cumulative+time+in+badulla&source=bl&ots=3YCsce_9-A&sig=ACfU3U1hUHgX5JoFKeC2LIYimb4GFj_CsA&hl=en&sa=X&ved=2ahUKEwjyy9av1aHzAhVBjeYKHXS_DAkQ6AF6BAglEAM#v=onepage&q=rainfall%20data%20with%20cumulative%20time%20in%20badulla&f=false"
      ]
    },
    {
      "cell_type": "markdown",
      "metadata": {
        "id": "3tmoDwL0y4BD"
      },
      "source": [
        "**Importing the libraries**"
      ]
    },
    {
      "cell_type": "code",
      "metadata": {
        "id": "SAIfZJDayyVp"
      },
      "source": [
        "import numpy as np\n",
        "import matplotlib.pyplot as plt\n",
        "import pandas as pd"
      ],
      "execution_count": 308,
      "outputs": []
    },
    {
      "cell_type": "markdown",
      "metadata": {
        "id": "49SPamzuzLi7"
      },
      "source": [
        "**Importing Rainfall data** "
      ]
    },
    {
      "cell_type": "code",
      "metadata": {
        "id": "xQazaJdaw8wM"
      },
      "source": [
        "dataset = pd.read_csv('/content/sample_data/Rainfall.csv')"
      ],
      "execution_count": 309,
      "outputs": []
    },
    {
      "cell_type": "code",
      "metadata": {
        "colab": {
          "base_uri": "https://localhost:8080/",
          "height": 204
        },
        "id": "maChF_rJzl30",
        "outputId": "e3005e02-7db9-4766-e250-d9f61f567ba8"
      },
      "source": [
        "dataset.head()"
      ],
      "execution_count": 310,
      "outputs": [
        {
          "output_type": "execute_result",
          "data": {
            "text/html": [
              "<div>\n",
              "<style scoped>\n",
              "    .dataframe tbody tr th:only-of-type {\n",
              "        vertical-align: middle;\n",
              "    }\n",
              "\n",
              "    .dataframe tbody tr th {\n",
              "        vertical-align: top;\n",
              "    }\n",
              "\n",
              "    .dataframe thead th {\n",
              "        text-align: right;\n",
              "    }\n",
              "</style>\n",
              "<table border=\"1\" class=\"dataframe\">\n",
              "  <thead>\n",
              "    <tr style=\"text-align: right;\">\n",
              "      <th></th>\n",
              "      <th>Year</th>\n",
              "      <th>Month</th>\n",
              "      <th>Day</th>\n",
              "      <th>Avg_Accumulation (mm)</th>\n",
              "      <th>Duration (hr)</th>\n",
              "      <th>Avg_intensity (mm/hr)</th>\n",
              "      <th>occur</th>\n",
              "    </tr>\n",
              "  </thead>\n",
              "  <tbody>\n",
              "    <tr>\n",
              "      <th>0</th>\n",
              "      <td>1997</td>\n",
              "      <td>November</td>\n",
              "      <td>17</td>\n",
              "      <td>257</td>\n",
              "      <td>6.0</td>\n",
              "      <td>43</td>\n",
              "      <td>yes</td>\n",
              "    </tr>\n",
              "    <tr>\n",
              "      <th>1</th>\n",
              "      <td>1997</td>\n",
              "      <td>November</td>\n",
              "      <td>19</td>\n",
              "      <td>268</td>\n",
              "      <td>5.0</td>\n",
              "      <td>53</td>\n",
              "      <td>yes</td>\n",
              "    </tr>\n",
              "    <tr>\n",
              "      <th>2</th>\n",
              "      <td>1997</td>\n",
              "      <td>November</td>\n",
              "      <td>19</td>\n",
              "      <td>289</td>\n",
              "      <td>6.0</td>\n",
              "      <td>48</td>\n",
              "      <td>yes</td>\n",
              "    </tr>\n",
              "    <tr>\n",
              "      <th>3</th>\n",
              "      <td>1997</td>\n",
              "      <td>November</td>\n",
              "      <td>19</td>\n",
              "      <td>215</td>\n",
              "      <td>4.0</td>\n",
              "      <td>54</td>\n",
              "      <td>yes</td>\n",
              "    </tr>\n",
              "    <tr>\n",
              "      <th>4</th>\n",
              "      <td>1998</td>\n",
              "      <td>November</td>\n",
              "      <td>16</td>\n",
              "      <td>149</td>\n",
              "      <td>3.0</td>\n",
              "      <td>50</td>\n",
              "      <td>yes</td>\n",
              "    </tr>\n",
              "  </tbody>\n",
              "</table>\n",
              "</div>"
            ],
            "text/plain": [
              "   Year     Month  Day  ...  Duration (hr)  Avg_intensity (mm/hr)  occur\n",
              "0  1997  November   17  ...            6.0                     43    yes\n",
              "1  1997  November   19  ...            5.0                     53    yes\n",
              "2  1997  November   19  ...            6.0                     48    yes\n",
              "3  1997  November   19  ...            4.0                     54    yes\n",
              "4  1998  November   16  ...            3.0                     50    yes\n",
              "\n",
              "[5 rows x 7 columns]"
            ]
          },
          "metadata": {},
          "execution_count": 310
        }
      ]
    },
    {
      "cell_type": "code",
      "metadata": {
        "colab": {
          "base_uri": "https://localhost:8080/"
        },
        "id": "BBZ_1dWl1uzs",
        "outputId": "ba3ae47b-6b1e-4f64-ca90-9c0b707f0676"
      },
      "source": [
        "column_names=dataset.columns.values.tolist()\n",
        "print(column_names)"
      ],
      "execution_count": 311,
      "outputs": [
        {
          "output_type": "stream",
          "name": "stdout",
          "text": [
            "['Year', 'Month', 'Day', 'Avg_Accumulation (mm)', 'Duration (hr)', 'Avg_intensity (mm/hr)', 'occur']\n"
          ]
        }
      ]
    },
    {
      "cell_type": "markdown",
      "metadata": {
        "id": "bf5K9DT42mz7"
      },
      "source": [
        "**import Encoders**"
      ]
    },
    {
      "cell_type": "code",
      "metadata": {
        "id": "wSSAcnlm3N4b"
      },
      "source": [
        "from sklearn.compose import ColumnTransformer\n",
        "from sklearn.preprocessing import OneHotEncoder\n",
        "from sklearn.preprocessing import LabelEncoder"
      ],
      "execution_count": 312,
      "outputs": []
    },
    {
      "cell_type": "code",
      "metadata": {
        "id": "2jsabpc03SXa"
      },
      "source": [
        "labelencode=LabelEncoder()\n",
        "dataset['occur_']=labelencode.fit_transform(dataset['occur'])\n",
        "labelencode=LabelEncoder()\n",
        "dataset['Month_']=labelencode.fit_transform(dataset['Month'])\n",
        "labelencode=LabelEncoder()"
      ],
      "execution_count": 313,
      "outputs": []
    },
    {
      "cell_type": "code",
      "metadata": {
        "colab": {
          "base_uri": "https://localhost:8080/",
          "height": 204
        },
        "id": "Qcf0THVL4V_7",
        "outputId": "f7ec26db-e148-4ca5-b2b4-4ba5b69320fa"
      },
      "source": [
        "dataset.head()"
      ],
      "execution_count": 314,
      "outputs": [
        {
          "output_type": "execute_result",
          "data": {
            "text/html": [
              "<div>\n",
              "<style scoped>\n",
              "    .dataframe tbody tr th:only-of-type {\n",
              "        vertical-align: middle;\n",
              "    }\n",
              "\n",
              "    .dataframe tbody tr th {\n",
              "        vertical-align: top;\n",
              "    }\n",
              "\n",
              "    .dataframe thead th {\n",
              "        text-align: right;\n",
              "    }\n",
              "</style>\n",
              "<table border=\"1\" class=\"dataframe\">\n",
              "  <thead>\n",
              "    <tr style=\"text-align: right;\">\n",
              "      <th></th>\n",
              "      <th>Year</th>\n",
              "      <th>Month</th>\n",
              "      <th>Day</th>\n",
              "      <th>Avg_Accumulation (mm)</th>\n",
              "      <th>Duration (hr)</th>\n",
              "      <th>Avg_intensity (mm/hr)</th>\n",
              "      <th>occur</th>\n",
              "      <th>occur_</th>\n",
              "      <th>Month_</th>\n",
              "    </tr>\n",
              "  </thead>\n",
              "  <tbody>\n",
              "    <tr>\n",
              "      <th>0</th>\n",
              "      <td>1997</td>\n",
              "      <td>November</td>\n",
              "      <td>17</td>\n",
              "      <td>257</td>\n",
              "      <td>6.0</td>\n",
              "      <td>43</td>\n",
              "      <td>yes</td>\n",
              "      <td>1</td>\n",
              "      <td>9</td>\n",
              "    </tr>\n",
              "    <tr>\n",
              "      <th>1</th>\n",
              "      <td>1997</td>\n",
              "      <td>November</td>\n",
              "      <td>19</td>\n",
              "      <td>268</td>\n",
              "      <td>5.0</td>\n",
              "      <td>53</td>\n",
              "      <td>yes</td>\n",
              "      <td>1</td>\n",
              "      <td>9</td>\n",
              "    </tr>\n",
              "    <tr>\n",
              "      <th>2</th>\n",
              "      <td>1997</td>\n",
              "      <td>November</td>\n",
              "      <td>19</td>\n",
              "      <td>289</td>\n",
              "      <td>6.0</td>\n",
              "      <td>48</td>\n",
              "      <td>yes</td>\n",
              "      <td>1</td>\n",
              "      <td>9</td>\n",
              "    </tr>\n",
              "    <tr>\n",
              "      <th>3</th>\n",
              "      <td>1997</td>\n",
              "      <td>November</td>\n",
              "      <td>19</td>\n",
              "      <td>215</td>\n",
              "      <td>4.0</td>\n",
              "      <td>54</td>\n",
              "      <td>yes</td>\n",
              "      <td>1</td>\n",
              "      <td>9</td>\n",
              "    </tr>\n",
              "    <tr>\n",
              "      <th>4</th>\n",
              "      <td>1998</td>\n",
              "      <td>November</td>\n",
              "      <td>16</td>\n",
              "      <td>149</td>\n",
              "      <td>3.0</td>\n",
              "      <td>50</td>\n",
              "      <td>yes</td>\n",
              "      <td>1</td>\n",
              "      <td>9</td>\n",
              "    </tr>\n",
              "  </tbody>\n",
              "</table>\n",
              "</div>"
            ],
            "text/plain": [
              "   Year     Month  Day  ...  occur  occur_  Month_\n",
              "0  1997  November   17  ...    yes       1       9\n",
              "1  1997  November   19  ...    yes       1       9\n",
              "2  1997  November   19  ...    yes       1       9\n",
              "3  1997  November   19  ...    yes       1       9\n",
              "4  1998  November   16  ...    yes       1       9\n",
              "\n",
              "[5 rows x 9 columns]"
            ]
          },
          "metadata": {},
          "execution_count": 314
        }
      ]
    },
    {
      "cell_type": "markdown",
      "metadata": {
        "id": "z-JKaafu4imy"
      },
      "source": [
        "**Make new data frame with this dataset**"
      ]
    },
    {
      "cell_type": "code",
      "metadata": {
        "id": "UJNToffD4h2t"
      },
      "source": [
        "new_dataset= dataset[[ 'Avg_Accumulation (mm)', 'Duration (hr)', 'Avg_intensity (mm/hr)', 'occur_']]"
      ],
      "execution_count": 315,
      "outputs": []
    },
    {
      "cell_type": "code",
      "metadata": {
        "colab": {
          "base_uri": "https://localhost:8080/",
          "height": 204
        },
        "id": "whdq3o9MIDvB",
        "outputId": "d7f5ace1-600c-4fe1-99e2-33fe8e1262d6"
      },
      "source": [
        "new_dataset.head()"
      ],
      "execution_count": 316,
      "outputs": [
        {
          "output_type": "execute_result",
          "data": {
            "text/html": [
              "<div>\n",
              "<style scoped>\n",
              "    .dataframe tbody tr th:only-of-type {\n",
              "        vertical-align: middle;\n",
              "    }\n",
              "\n",
              "    .dataframe tbody tr th {\n",
              "        vertical-align: top;\n",
              "    }\n",
              "\n",
              "    .dataframe thead th {\n",
              "        text-align: right;\n",
              "    }\n",
              "</style>\n",
              "<table border=\"1\" class=\"dataframe\">\n",
              "  <thead>\n",
              "    <tr style=\"text-align: right;\">\n",
              "      <th></th>\n",
              "      <th>Avg_Accumulation (mm)</th>\n",
              "      <th>Duration (hr)</th>\n",
              "      <th>Avg_intensity (mm/hr)</th>\n",
              "      <th>occur_</th>\n",
              "    </tr>\n",
              "  </thead>\n",
              "  <tbody>\n",
              "    <tr>\n",
              "      <th>0</th>\n",
              "      <td>257</td>\n",
              "      <td>6.0</td>\n",
              "      <td>43</td>\n",
              "      <td>1</td>\n",
              "    </tr>\n",
              "    <tr>\n",
              "      <th>1</th>\n",
              "      <td>268</td>\n",
              "      <td>5.0</td>\n",
              "      <td>53</td>\n",
              "      <td>1</td>\n",
              "    </tr>\n",
              "    <tr>\n",
              "      <th>2</th>\n",
              "      <td>289</td>\n",
              "      <td>6.0</td>\n",
              "      <td>48</td>\n",
              "      <td>1</td>\n",
              "    </tr>\n",
              "    <tr>\n",
              "      <th>3</th>\n",
              "      <td>215</td>\n",
              "      <td>4.0</td>\n",
              "      <td>54</td>\n",
              "      <td>1</td>\n",
              "    </tr>\n",
              "    <tr>\n",
              "      <th>4</th>\n",
              "      <td>149</td>\n",
              "      <td>3.0</td>\n",
              "      <td>50</td>\n",
              "      <td>1</td>\n",
              "    </tr>\n",
              "  </tbody>\n",
              "</table>\n",
              "</div>"
            ],
            "text/plain": [
              "   Avg_Accumulation (mm)  Duration (hr)  Avg_intensity (mm/hr)  occur_\n",
              "0                    257            6.0                     43       1\n",
              "1                    268            5.0                     53       1\n",
              "2                    289            6.0                     48       1\n",
              "3                    215            4.0                     54       1\n",
              "4                    149            3.0                     50       1"
            ]
          },
          "metadata": {},
          "execution_count": 316
        }
      ]
    },
    {
      "cell_type": "markdown",
      "metadata": {
        "id": "B_r7rEcxJGPI"
      },
      "source": [
        "**splitting the dataset into Test set and Training set**"
      ]
    },
    {
      "cell_type": "code",
      "metadata": {
        "id": "buDq2QmnJLQI"
      },
      "source": [
        "x=new_dataset.iloc[:,:-1].values \n",
        "y=new_dataset.iloc[:,-1].values"
      ],
      "execution_count": 317,
      "outputs": []
    },
    {
      "cell_type": "code",
      "metadata": {
        "colab": {
          "base_uri": "https://localhost:8080/"
        },
        "id": "dPDWDfvkJbXX",
        "outputId": "668ae5f9-00e3-44f5-be49-6132b0afca38"
      },
      "source": [
        "print(x)\n",
        "print(y)"
      ],
      "execution_count": 318,
      "outputs": [
        {
          "output_type": "stream",
          "name": "stdout",
          "text": [
            "[[257.    6.   43. ]\n",
            " [268.    5.   53. ]\n",
            " [289.    6.   48. ]\n",
            " [215.    4.   54. ]\n",
            " [149.    3.   50. ]\n",
            " [180.    4.   45. ]\n",
            " [206.    5.   41. ]\n",
            " [211.    5.   42. ]\n",
            " [320.    6.   53. ]\n",
            " [307.    7.   44. ]\n",
            " [338.    8.   42. ]\n",
            " [316.    7.   45. ]\n",
            " [199.    5.   40. ]\n",
            " [189.    4.   47. ]\n",
            " [160.    3.   53. ]\n",
            " [221.    6.   37. ]\n",
            " [160.    3.   53. ]\n",
            " [306.    6.   51. ]\n",
            " [174.    4.   44. ]\n",
            " [149.    4.   37. ]\n",
            " [189.    5.   38. ]\n",
            " [107.    3.   36. ]\n",
            " [149.    4.   37. ]\n",
            " [139.    5.5  25. ]\n",
            " [141.    5.6  25. ]\n",
            " [112.    4.   28. ]\n",
            " [ 54.    2.1  25. ]\n",
            " [130.    6.   28. ]\n",
            " [ 73.    3.   24. ]\n",
            " [140.    5.   28. ]\n",
            " [130.    5.   26. ]\n",
            " [109.    6.   18. ]\n",
            " [ 90.    3.   30. ]\n",
            " [ 88.    4.   22. ]\n",
            " [ 52.    2.   26. ]\n",
            " [ 74.    3.   27. ]\n",
            " [ 50.    1.5  33. ]\n",
            " [ 80.    3.   27. ]\n",
            " [120.    4.   30. ]\n",
            " [134.    4.   31. ]\n",
            " [197.    5.   39. ]\n",
            " [205.    5.   41. ]\n",
            " [165.    4.   41. ]\n",
            " [319.    7.   46. ]\n",
            " [305.    7.   44. ]\n",
            " [310.    6.   52. ]\n",
            " [179.    4.   45. ]\n",
            " [198.    8.   25. ]\n",
            " [212.    4.   53. ]\n",
            " [228.    5.   46. ]]\n",
            "[1 1 1 1 1 1 1 1 1 1 1 1 1 1 1 1 1 1 1 1 1 1 1 0 0 0 0 0 0 0 0 0 0 0 0 0 0\n",
            " 0 0 0 1 1 1 1 1 1 1 1 1 1]\n"
          ]
        }
      ]
    },
    {
      "cell_type": "code",
      "metadata": {
        "id": "tgu7o-k1JnRA"
      },
      "source": [
        "from sklearn.model_selection import train_test_split\n",
        "x_train,x_test,y_train,y_test=train_test_split(x,y,train_size=0.75,test_size=0.25,random_state=0)"
      ],
      "execution_count": 319,
      "outputs": []
    },
    {
      "cell_type": "code",
      "metadata": {
        "colab": {
          "base_uri": "https://localhost:8080/"
        },
        "id": "6eq7ArNGJuyy",
        "outputId": "3815521c-d5e5-4ccf-a26f-536602afedfb"
      },
      "source": [
        "print(x_train)\n",
        "print(y_train)"
      ],
      "execution_count": 320,
      "outputs": [
        {
          "output_type": "stream",
          "name": "stdout",
          "text": [
            "[[ 52.    2.   26. ]\n",
            " [174.    4.   44. ]\n",
            " [211.    5.   42. ]\n",
            " [160.    3.   53. ]\n",
            " [310.    6.   52. ]\n",
            " [212.    4.   53. ]\n",
            " [140.    5.   28. ]\n",
            " [221.    6.   37. ]\n",
            " [130.    5.   26. ]\n",
            " [ 90.    3.   30. ]\n",
            " [160.    3.   53. ]\n",
            " [165.    4.   41. ]\n",
            " [189.    5.   38. ]\n",
            " [319.    7.   46. ]\n",
            " [320.    6.   53. ]\n",
            " [189.    4.   47. ]\n",
            " [112.    4.   28. ]\n",
            " [180.    4.   45. ]\n",
            " [306.    6.   51. ]\n",
            " [197.    5.   39. ]\n",
            " [228.    5.   46. ]\n",
            " [268.    5.   53. ]\n",
            " [199.    5.   40. ]\n",
            " [ 80.    3.   27. ]\n",
            " [141.    5.6  25. ]\n",
            " [206.    5.   41. ]\n",
            " [139.    5.5  25. ]\n",
            " [ 50.    1.5  33. ]\n",
            " [107.    3.   36. ]\n",
            " [149.    4.   37. ]\n",
            " [307.    7.   44. ]\n",
            " [134.    4.   31. ]\n",
            " [179.    4.   45. ]\n",
            " [215.    4.   54. ]\n",
            " [257.    6.   43. ]\n",
            " [198.    8.   25. ]\n",
            " [305.    7.   44. ]]\n",
            "[0 1 1 1 1 1 0 1 0 0 1 1 1 1 1 1 0 1 1 1 1 1 1 0 0 1 0 0 1 1 1 0 1 1 1 1 1]\n"
          ]
        }
      ]
    },
    {
      "cell_type": "code",
      "metadata": {
        "colab": {
          "base_uri": "https://localhost:8080/"
        },
        "id": "XiaAo85_JxoP",
        "outputId": "2e244f94-d85c-47a3-de72-db16bdbd75ca"
      },
      "source": [
        "print(x_test)\n",
        "print(y_test)\n"
      ],
      "execution_count": 321,
      "outputs": [
        {
          "output_type": "stream",
          "name": "stdout",
          "text": [
            "[[ 73.    3.   24. ]\n",
            " [316.    7.   45. ]\n",
            " [338.    8.   42. ]\n",
            " [205.    5.   41. ]\n",
            " [289.    6.   48. ]\n",
            " [130.    6.   28. ]\n",
            " [120.    4.   30. ]\n",
            " [109.    6.   18. ]\n",
            " [149.    4.   37. ]\n",
            " [149.    3.   50. ]\n",
            " [ 88.    4.   22. ]\n",
            " [ 74.    3.   27. ]\n",
            " [ 54.    2.1  25. ]]\n",
            "[0 1 1 1 1 0 0 0 1 1 0 0 0]\n"
          ]
        }
      ]
    },
    {
      "cell_type": "markdown",
      "metadata": {
        "id": "MOnr-NIIKR-A"
      },
      "source": [
        "# Train Logistic Regression model on Training set"
      ]
    },
    {
      "cell_type": "code",
      "metadata": {
        "colab": {
          "base_uri": "https://localhost:8080/"
        },
        "id": "rD84MfPnKRUn",
        "outputId": "688c8dba-342c-4fec-a36d-6a30c051a537"
      },
      "source": [
        "from sklearn.linear_model import LogisticRegression\n",
        "Classifier=LogisticRegression(random_state=0)\n",
        "Classifier.fit(x_train,y_train)"
      ],
      "execution_count": 322,
      "outputs": [
        {
          "output_type": "execute_result",
          "data": {
            "text/plain": [
              "LogisticRegression(C=1.0, class_weight=None, dual=False, fit_intercept=True,\n",
              "                   intercept_scaling=1, l1_ratio=None, max_iter=100,\n",
              "                   multi_class='auto', n_jobs=None, penalty='l2',\n",
              "                   random_state=0, solver='lbfgs', tol=0.0001, verbose=0,\n",
              "                   warm_start=False)"
            ]
          },
          "metadata": {},
          "execution_count": 322
        }
      ]
    },
    {
      "cell_type": "markdown",
      "metadata": {
        "id": "DscFDEgZKa9g"
      },
      "source": [
        "# predicting new result"
      ]
    },
    {
      "cell_type": "code",
      "metadata": {
        "colab": {
          "base_uri": "https://localhost:8080/"
        },
        "id": "YI78A6hmKZyo",
        "outputId": "e22dec7c-8ba9-4c38-b524-1f946eb98030"
      },
      "source": [
        "print(Classifier.predict(sc.transform([[ 180,    4,  45]])))"
      ],
      "execution_count": 323,
      "outputs": [
        {
          "output_type": "stream",
          "name": "stdout",
          "text": [
            "[0]\n"
          ]
        }
      ]
    },
    {
      "cell_type": "markdown",
      "metadata": {
        "id": "xbVNOcDGMDfi"
      },
      "source": [
        "**Predicting the Test set results**"
      ]
    },
    {
      "cell_type": "code",
      "metadata": {
        "colab": {
          "base_uri": "https://localhost:8080/"
        },
        "id": "W2AkhSifMHsH",
        "outputId": "3f2a2e65-d8ad-4fa5-8f50-8bf0a109750c"
      },
      "source": [
        "y_pred = Classifier.predict(x_test)\n",
        "print(np.concatenate((y_pred.reshape(len(y_pred),1), y_test.reshape(len(y_test),1)),1))"
      ],
      "execution_count": 324,
      "outputs": [
        {
          "output_type": "stream",
          "name": "stdout",
          "text": [
            "[[0 0]\n",
            " [1 1]\n",
            " [1 1]\n",
            " [1 1]\n",
            " [1 1]\n",
            " [0 0]\n",
            " [0 0]\n",
            " [0 0]\n",
            " [1 1]\n",
            " [1 1]\n",
            " [0 0]\n",
            " [0 0]\n",
            " [0 0]]\n"
          ]
        }
      ]
    },
    {
      "cell_type": "markdown",
      "metadata": {
        "id": "d117zFu7La_I"
      },
      "source": [
        "# Making the Confusion Matrix"
      ]
    },
    {
      "cell_type": "code",
      "metadata": {
        "colab": {
          "base_uri": "https://localhost:8080/"
        },
        "id": "vkJZF7kSLd9Q",
        "outputId": "36a2a315-790d-4fd5-8c30-8bfa815d3018"
      },
      "source": [
        "from sklearn.metrics import confusion_matrix, accuracy_score\n",
        "cm = confusion_matrix(y_test, y_pred)\n",
        "print(cm)\n",
        "accuracy_score(y_test, y_pred)"
      ],
      "execution_count": 325,
      "outputs": [
        {
          "output_type": "stream",
          "name": "stdout",
          "text": [
            "[[7 0]\n",
            " [0 6]]\n"
          ]
        },
        {
          "output_type": "execute_result",
          "data": {
            "text/plain": [
              "1.0"
            ]
          },
          "metadata": {},
          "execution_count": 325
        }
      ]
    }
  ]
}